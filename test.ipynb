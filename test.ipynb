{
 "cells": [
  {
   "cell_type": "code",
   "execution_count": 4,
   "metadata": {},
   "outputs": [
    {
     "name": "stderr",
     "output_type": "stream",
     "text": [
      "Some weights of the model checkpoint at ./model/bert_base_chinese were not used when initializing BertForMaskedLM: ['cls.seq_relationship.bias', 'bert.pooler.dense.bias', 'cls.seq_relationship.weight', 'bert.pooler.dense.weight']\n",
      "- This IS expected if you are initializing BertForMaskedLM from the checkpoint of a model trained on another task or with another architecture (e.g. initializing a BertForSequenceClassification model from a BertForPreTraining model).\n",
      "- This IS NOT expected if you are initializing BertForMaskedLM from the checkpoint of a model that you expect to be exactly identical (initializing a BertForSequenceClassification model from a BertForSequenceClassification model).\n"
     ]
    },
    {
     "name": "stdout",
     "output_type": "stream",
     "text": [
      "torch.Size([5, 33]) torch.Size([5, 33])\n",
      "torch.Size([5, 33, 768])\n",
      "[CLS] . [SEP] [PAD] [PAD] [PAD] [PAD] [PAD] [PAD] [PAD] [PAD] [PAD] [PAD] [PAD] [PAD] [PAD] [PAD] [PAD] [PAD] [PAD] [PAD] [PAD] [PAD] [PAD] [PAD] [PAD] [PAD] [PAD] [PAD] [PAD] [PAD] [PAD] [PAD] \n",
      "[CLS] . [SEP] [PAD] [PAD] [PAD] [PAD] [PAD] [PAD] [PAD] [PAD] [PAD] [PAD] [PAD] [PAD] [PAD] [PAD] [PAD] [PAD] [PAD] [PAD] [PAD] [PAD] [PAD] [PAD] [PAD] [PAD] [PAD] [PAD] [PAD] [PAD] [PAD] [PAD] \n",
      "[CLS] . 你 看 他 一 来 就 行 我 们 那 么 的 不 会 用 搞 来 搞 去 的 不 知 道 是 去 哪 个 码 头 . [SEP] \n",
      "[CLS] 这 也 是 一 句 话 [SEP] [PAD] [PAD] [PAD] [PAD] [PAD] [PAD] [PAD] [PAD] [PAD] [PAD] [PAD] [PAD] [PAD] [PAD] [PAD] [PAD] [PAD] [PAD] [PAD] [PAD] [PAD] [PAD] [PAD] [PAD] [PAD] \n",
      "[CLS] 这 是 最 后 一 句 话 [SEP] [PAD] [PAD] [PAD] [PAD] [PAD] [PAD] [PAD] [PAD] [PAD] [PAD] [PAD] [PAD] [PAD] [PAD] [PAD] [PAD] [PAD] [PAD] [PAD] [PAD] [PAD] [PAD] [PAD] [PAD] \n"
     ]
    }
   ],
   "source": [
    "import re\n",
    "import torch\n",
    "from transformers import AutoTokenizer, AutoModelForMaskedLM\n",
    "\n",
    "model = AutoModelForMaskedLM.from_pretrained(\"./model/bert_base_chinese\")\n",
    "tokenizer = AutoTokenizer.from_pretrained(\"./model/bert_base_chinese\")\n",
    "\n",
    "sentences = [\n",
    "    'null',\n",
    "    'Input-Asr-None',\n",
    "    '(side)你看他一来就行我们那么的不会用搞来搞去的不知道是去哪个码头(unknown)',\n",
    "    '这也是一句话',\n",
    "    '这是最后一句话',\n",
    "]\n",
    "pattern = re.compile(r'[a-zA-Z0-9-\\(\\)\\s]+')\n",
    "sentences = [pattern.sub('.', sentence) for sentence in sentences]\n",
    "\n",
    "inputs = tokenizer(sentences, padding=True, return_tensors='pt')\n",
    "input_ids = inputs['input_ids']\n",
    "attention_mask = inputs['attention_mask']\n",
    "print(input_ids.shape, attention_mask.shape)\n",
    "outputs = model(input_ids, attention_mask=attention_mask, output_hidden_states=True).hidden_states[-1]\n",
    "print(outputs.shape)\n",
    "\n",
    "# output each token's corresponding word piece\n",
    "for input in inputs['input_ids']:\n",
    "    for token in input:\n",
    "        print(tokenizer.decode([token.item()]), end=' ')\n",
    "    print()"
   ]
  }
 ],
 "metadata": {
  "kernelspec": {
   "display_name": "pytorch",
   "language": "python",
   "name": "python3"
  },
  "language_info": {
   "codemirror_mode": {
    "name": "ipython",
    "version": 3
   },
   "file_extension": ".py",
   "mimetype": "text/x-python",
   "name": "python",
   "nbconvert_exporter": "python",
   "pygments_lexer": "ipython3",
   "version": "3.10.11"
  }
 },
 "nbformat": 4,
 "nbformat_minor": 2
}
