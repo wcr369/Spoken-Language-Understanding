{
 "cells": [
  {
   "cell_type": "code",
   "execution_count": 2,
   "metadata": {},
   "outputs": [
    {
     "name": "stdout",
     "output_type": "stream",
     "text": [
      "torch.Size([5, 40]) torch.Size([5, 40])\n",
      "torch.Size([5, 40, 768])\n",
      "torch.Size([5, 40, 768])\n",
      "[CLS] null [SEP] [PAD] [PAD] [PAD] [PAD] [PAD] [PAD] [PAD] [PAD] [PAD] [PAD] [PAD] [PAD] [PAD] [PAD] [PAD] [PAD] [PAD] [PAD] [PAD] [PAD] [PAD] [PAD] [PAD] [PAD] [PAD] [PAD] [PAD] [PAD] [PAD] [PAD] [PAD] [PAD] [PAD] [PAD] [PAD] [PAD] [PAD] \n",
      "[CLS] in ##put - asr - non ##e [SEP] [PAD] [PAD] [PAD] [PAD] [PAD] [PAD] [PAD] [PAD] [PAD] [PAD] [PAD] [PAD] [PAD] [PAD] [PAD] [PAD] [PAD] [PAD] [PAD] [PAD] [PAD] [PAD] [PAD] [PAD] [PAD] [PAD] [PAD] [PAD] [PAD] [PAD] [PAD] \n",
      "[CLS] ( side ) 你 看 他 一 来 就 行 我 们 那 么 的 不 会 用 搞 来 搞 去 的 不 知 道 是 去 哪 个 码 头 ( u ##nk ##now ##n ) [SEP] \n",
      "[CLS] 这 也 是 一 句 话 [SEP] [PAD] [PAD] [PAD] [PAD] [PAD] [PAD] [PAD] [PAD] [PAD] [PAD] [PAD] [PAD] [PAD] [PAD] [PAD] [PAD] [PAD] [PAD] [PAD] [PAD] [PAD] [PAD] [PAD] [PAD] [PAD] [PAD] [PAD] [PAD] [PAD] [PAD] [PAD] [PAD] \n",
      "[CLS] 这 是 最 后 一 句 话 [SEP] [PAD] [PAD] [PAD] [PAD] [PAD] [PAD] [PAD] [PAD] [PAD] [PAD] [PAD] [PAD] [PAD] [PAD] [PAD] [PAD] [PAD] [PAD] [PAD] [PAD] [PAD] [PAD] [PAD] [PAD] [PAD] [PAD] [PAD] [PAD] [PAD] [PAD] [PAD] \n"
     ]
    }
   ],
   "source": [
    "import torch\n",
    "from transformers import AutoTokenizer, AutoModel\n",
    "\n",
    "model = AutoModel.from_pretrained(\"hfl/chinese-bert-wwm-ext\")\n",
    "tokenizer = AutoTokenizer.from_pretrained(\"hfl/chinese-bert-wwm-ext\")\n",
    "\n",
    "sentences = [\n",
    "    'null',\n",
    "    'Input-Asr-None',\n",
    "    '(side)你看他一来就行我们那么的不会用搞来搞去的不知道是去哪个码头(unknown)',\n",
    "    '这也是一句话',\n",
    "    '这是最后一句话',\n",
    "]\n",
    "\n",
    "inputs = tokenizer(sentences, padding=True, return_tensors='pt')\n",
    "input_ids = inputs['input_ids']\n",
    "attention_mask = inputs['attention_mask']\n",
    "print(input_ids.shape, attention_mask.shape)\n",
    "outputs = model(input_ids, attention_mask=attention_mask, output_hidden_states=True).hidden_states[-1]\n",
    "print(outputs.shape)\n",
    "logits = model(input_ids, attention_mask=attention_mask).last_hidden_state\n",
    "print(logits.shape)\n",
    "\n",
    "# output each token's corresponding word piece\n",
    "for input in inputs['input_ids']:\n",
    "    for token in input:\n",
    "        print(tokenizer.decode([token.item()]), end=' ')\n",
    "    print()"
   ]
  }
 ],
 "metadata": {
  "kernelspec": {
   "display_name": "pytorch",
   "language": "python",
   "name": "python3"
  },
  "language_info": {
   "codemirror_mode": {
    "name": "ipython",
    "version": 3
   },
   "file_extension": ".py",
   "mimetype": "text/x-python",
   "name": "python",
   "nbconvert_exporter": "python",
   "pygments_lexer": "ipython3",
   "version": "3.10.11"
  }
 },
 "nbformat": 4,
 "nbformat_minor": 2
}
